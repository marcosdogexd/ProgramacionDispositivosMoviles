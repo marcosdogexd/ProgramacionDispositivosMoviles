{
  "nbformat": 4,
  "nbformat_minor": 0,
  "metadata": {
    "colab": {
      "provenance": [],
      "authorship_tag": "ABX9TyPraBuBUrjZJf+TJsPpPVVN",
      "include_colab_link": true
    },
    "kernelspec": {
      "name": "python3",
      "display_name": "Python 3"
    },
    "language_info": {
      "name": "python"
    }
  },
  "cells": [
    {
      "cell_type": "markdown",
      "metadata": {
        "id": "view-in-github",
        "colab_type": "text"
      },
      "source": [
        "<a href=\"https://colab.research.google.com/github/marcosdogexd/ProgramacionDispositivosMoviles/blob/main/ScrapyDataBasic_OntanedaMarcos_S10.ipynb\" target=\"_parent\"><img src=\"https://colab.research.google.com/assets/colab-badge.svg\" alt=\"Open In Colab\"/></a>"
      ]
    },
    {
      "cell_type": "code",
      "source": [
        "# Instalación de librerías necesarias para trabajar con datos web y tablas\n",
        "!pip install beautifulsoup4 requests pandas"
      ],
      "metadata": {
        "colab": {
          "base_uri": "https://localhost:8080/"
        },
        "id": "AnlqwDg5sweO",
        "outputId": "16399228-f942-4999-f69b-17dbe1f0775e"
      },
      "execution_count": null,
      "outputs": [
        {
          "output_type": "stream",
          "name": "stdout",
          "text": [
            "Requirement already satisfied: beautifulsoup4 in /usr/local/lib/python3.10/dist-packages (4.12.3)\n",
            "Requirement already satisfied: requests in /usr/local/lib/python3.10/dist-packages (2.32.3)\n",
            "Requirement already satisfied: pandas in /usr/local/lib/python3.10/dist-packages (2.2.2)\n",
            "Requirement already satisfied: soupsieve>1.2 in /usr/local/lib/python3.10/dist-packages (from beautifulsoup4) (2.6)\n",
            "Requirement already satisfied: charset-normalizer<4,>=2 in /usr/local/lib/python3.10/dist-packages (from requests) (3.4.0)\n",
            "Requirement already satisfied: idna<4,>=2.5 in /usr/local/lib/python3.10/dist-packages (from requests) (3.10)\n",
            "Requirement already satisfied: urllib3<3,>=1.21.1 in /usr/local/lib/python3.10/dist-packages (from requests) (2.2.3)\n",
            "Requirement already satisfied: certifi>=2017.4.17 in /usr/local/lib/python3.10/dist-packages (from requests) (2024.8.30)\n",
            "Requirement already satisfied: numpy>=1.22.4 in /usr/local/lib/python3.10/dist-packages (from pandas) (1.26.4)\n",
            "Requirement already satisfied: python-dateutil>=2.8.2 in /usr/local/lib/python3.10/dist-packages (from pandas) (2.8.2)\n",
            "Requirement already satisfied: pytz>=2020.1 in /usr/local/lib/python3.10/dist-packages (from pandas) (2024.2)\n",
            "Requirement already satisfied: tzdata>=2022.7 in /usr/local/lib/python3.10/dist-packages (from pandas) (2024.2)\n",
            "Requirement already satisfied: six>=1.5 in /usr/local/lib/python3.10/dist-packages (from python-dateutil>=2.8.2->pandas) (1.16.0)\n"
          ]
        }
      ]
    },
    {
      "cell_type": "code",
      "source": [
        "# Importar la librería de Google Colab para conectar Google Drive\n",
        "from google.colab import drive\n",
        "\n",
        "# Montar Google Drive en la carpeta '/content/drive' para poder acceder y guardar archivos en tu unidad\n",
        "drive.mount('/content/drive')"
      ],
      "metadata": {
        "colab": {
          "base_uri": "https://localhost:8080/"
        },
        "id": "RSUWodDYsyah",
        "outputId": "d41de02e-54ba-49af-f5e2-c1cb52f6b0df"
      },
      "execution_count": null,
      "outputs": [
        {
          "output_type": "stream",
          "name": "stdout",
          "text": [
            "Mounted at /content/drive\n"
          ]
        }
      ]
    },
    {
      "cell_type": "code",
      "source": [
        "# Importar librerías necesarias para procesamiento de datos y análisis web\n",
        "import json                          # Para manejar datos en formato JSON\n",
        "import requests                      # Para descargar datos desde una página web\n",
        "import pandas as pd                  # Para trabajar con datos de tablas\n",
        "from bs4 import BeautifulSoup as bs  # Para analizar el contenido HTML descargado desde la web"
      ],
      "metadata": {
        "id": "4p1q7od2s1ZO"
      },
      "execution_count": null,
      "outputs": []
    },
    {
      "cell_type": "code",
      "source": [
        "# Función que convierte una lista de filas en un DataFrame de Pandas\n",
        "def rowsToDataFrame(rows):\n",
        "\n",
        "\n",
        "    df = pd.DataFrame(rows[1:], columns=rows[0])  # La primera fila (rows[0]) se usa como encabezados de columna, y las filas siguientes (rows[1:]) son los datos\n",
        "    return df"
      ],
      "metadata": {
        "id": "F7AmBpu2tDuR"
      },
      "execution_count": null,
      "outputs": []
    },
    {
      "cell_type": "code",
      "source": [
        "# Función que procesa una tabla HTML y extrae sus datos en una lista de filas\n",
        "def processTableData(tbl):\n",
        "    rows = []  # Crear una lista vacía para almacenar las filas de la tabla\n",
        "\n",
        "    # Recorrer cada hijo en el cuerpo de la tabla\n",
        "    for child in tbl.find('tbody').children:\n",
        "        try:\n",
        "            row = []  # Crea una lista vacía para almacenar cada celda de una fila\n",
        "            # Busca todos los elementos <th> y <td> de cada fila\n",
        "            for td in child.find_all(['th', 'td']):\n",
        "                # eliminar saltos de línea y espacios\n",
        "                item = td.text.replace('\\n', '').strip()\n",
        "                if item:\n",
        "                    row.append(item)  # Agrega el texto a la lista de la fila\n",
        "            if row:\n",
        "                rows.append(row)  # Agregar la fila a la lista de filas de la tabla\n",
        "        except:\n",
        "            continue\n",
        "    return rows"
      ],
      "metadata": {
        "id": "EuCYWXwktTlI"
      },
      "execution_count": null,
      "outputs": []
    },
    {
      "cell_type": "code",
      "source": [
        "# Función que convierte el contenido HTML en un formato analizable y busca la tabla\n",
        "def processDataHTML(html_content):\n",
        "    # Convertir el contenido HTML en un objeto BeautifulSoup para poderlo analizar\n",
        "    soup = bs(html_content, 'html.parser')\n",
        "\n",
        "    # Buscar la primera tabla que tenga la clase 'wikitable'\n",
        "    tbl = soup.find('table', {'class': 'wikitable'})\n",
        "\n",
        "    # procesa la tabla usando processTableData; si no, devuelve una lista vacía\n",
        "    tblRows = processTableData(tbl) if tbl else []\n",
        "    return tblRows"
      ],
      "metadata": {
        "id": "c0FfJW6ytzT2"
      },
      "execution_count": null,
      "outputs": []
    },
    {
      "cell_type": "code",
      "source": [
        "# Especificar la URL de la página de Wikipedia que queremos analizar\n",
        "url = 'https://es.wikipedia.org/wiki/Deportes_electr%C3%B3nicos'\n",
        "\n",
        "# Descargar el contenido de la página usando requests.get y lo almacena\n",
        "r = requests.get(url)"
      ],
      "metadata": {
        "id": "JeE3jTYMuIld"
      },
      "execution_count": null,
      "outputs": []
    },
    {
      "cell_type": "code",
      "source": [
        "# Comprueba si la descarga de la página fue exitosa (código 200 significa éxito)\n",
        "if r.status_code == 200:\n",
        "    # Procesa el contenido HTML de la página\n",
        "    table = processDataHTML(r.text)\n",
        "\n",
        "    # Si se encuentran datos en la tabla, los convierte en un DataFrame de Pandas\n",
        "    if table:\n",
        "        df = rowsToDataFrame(table)  # Convertir las filas en un DataFrame\n",
        "        print(df.info())\n",
        "\n",
        "        # Guardar el DataFrame en un archivo CSV en Google Drive\n",
        "        df.to_csv('/content/drive/My Drive/esports_estadisticas.csv', index=False)\n",
        "        print(\"Archivo CSV guardado exitosamente en Google Drive.\")\n",
        "    else:\n",
        "        print(\"No se encontró ninguna tabla en la página.\")\n",
        "else:\n",
        "    print(f\"Error al acceder a la página: {r.status_code}\")"
      ],
      "metadata": {
        "colab": {
          "base_uri": "https://localhost:8080/"
        },
        "id": "E-Vk8JYTuNxT",
        "outputId": "7720470a-d6ef-4e24-cd1a-00f66410f045"
      },
      "execution_count": null,
      "outputs": [
        {
          "output_type": "stream",
          "name": "stdout",
          "text": [
            "<class 'pandas.core.frame.DataFrame'>\n",
            "RangeIndex: 17 entries, 0 to 16\n",
            "Data columns (total 5 columns):\n",
            " #   Column      Non-Null Count  Dtype \n",
            "---  ------      --------------  ----- \n",
            " 0   Año         17 non-null     object\n",
            " 1   Torneo      17 non-null     object\n",
            " 2   Videojuego  17 non-null     object\n",
            " 3   Campeón     17 non-null     object\n",
            " 4   Subcampeón  17 non-null     object\n",
            "dtypes: object(5)\n",
            "memory usage: 808.0+ bytes\n",
            "None\n",
            "Archivo CSV guardado exitosamente en Google Drive.\n"
          ]
        }
      ]
    }
  ]
}